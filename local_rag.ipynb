{
 "cells": [
  {
   "cell_type": "code",
   "execution_count": 71,
   "metadata": {},
   "outputs": [],
   "source": [
    "import os\n",
    "import requests\n",
    "import fitz\n",
    "import torch\n",
    "from tqdm.auto import tqdm\n",
    "import numpy as np\n",
    "import pandas as pd\n",
    "import random\n",
    "from spacy.lang.en import English\n",
    "import re\n",
    "from sentence_transformers import SentenceTransformer\n",
    "from PIL import Image\n",
    "from IPython.display import display\n",
    "import textwrap\n",
    "import ipywidgets as widgets\n",
    "import io"
   ]
  },
  {
   "cell_type": "code",
   "execution_count": 31,
   "metadata": {},
   "outputs": [],
   "source": [
    "# Check for GPU availability\n",
    "if torch.cuda.is_available():\n",
    "    device = torch.device('cuda')\n",
    "else:\n",
    "    device = torch.device('cpu')"
   ]
  },
  {
   "cell_type": "code",
   "execution_count": 3,
   "metadata": {},
   "outputs": [
    {
     "name": "stdout",
     "output_type": "stream",
     "text": [
      "File already exists.\n"
     ]
    }
   ],
   "source": [
    "pdf_path = 'local_document.pdf'\n",
    "\n",
    "if os.path.exists(pdf_path):\n",
    "    print(\"File already exists.\")\n",
    "else:\n",
    "    print('File not found, downloading...')\n",
    "    file_url = 'https://pressbooks.oer.hawaii.edu/humannutrition2/open/download?type=pdf'\n",
    "    response = requests.get(file_url)\n",
    "    if response.status_code == 200:\n",
    "        with open(pdf_path, 'wb') as file:\n",
    "            file.write(response.content)\n",
    "        print(f'File downloaded and saved as {pdf_path}')\n",
    "    else:\n",
    "        print(f'Error downloading file. Status code: {response.status_code}')"
   ]
  },
  {
   "cell_type": "code",
   "execution_count": 4,
   "metadata": {},
   "outputs": [],
   "source": [
    "def text_formatter(text):\n",
    "    formatted_text = text.replace('\\n', ' ').strip()\n",
    "    return formatted_text"
   ]
  },
  {
   "cell_type": "code",
   "execution_count": 5,
   "metadata": {},
   "outputs": [],
   "source": [
    "def pdf_to_page(pdf_path):\n",
    "    pdf = fitz.open(pdf_path)\n",
    "    pdf_to_page = []\n",
    "\n",
    "    for page_no, page_content in enumerate(pdf.pages()):\n",
    "        page_text = page_content.get_text()\n",
    "        page_text = text_formatter(page_text)\n",
    "        page_info = {'page_no': page_no,\n",
    "                    'character_count': len(page_text),\n",
    "                    'word_count': len(page_text.split(' ')),\n",
    "                    'sentence_count': len(page_text.split('. ')),\n",
    "                    'token_count': len(page_text)/4,\n",
    "                    'text': page_text,\n",
    "                    'sentences': page_text.split('. ')}\n",
    "        \n",
    "        pdf_to_page.append(page_info)\n",
    "    \n",
    "    return pdf_to_page\n",
    "\n",
    "pages = pdf_to_page(pdf_path)"
   ]
  },
  {
   "cell_type": "code",
   "execution_count": 6,
   "metadata": {},
   "outputs": [],
   "source": [
    "max_sentence_size = 10\n",
    "def split_list(pages_list, max_sentence_size):\n",
    "    for page in pages_list:\n",
    "        sentence_grouped = []\n",
    "        for i in range(0, page['sentence_count'], max_sentence_size):\n",
    "            sentence_group = ''.join(page['sentences'][i: i+max_sentence_size])\n",
    "            sentence_grouped.append(sentence_group)\n",
    "        page['sentence_grouped'] = sentence_grouped\n",
    "        page['sentence_group_count'] = len(sentence_grouped)\n",
    "\n",
    "    return pages_list\n",
    "\n",
    "updated_pages = split_list(pages, max_sentence_size)"
   ]
  },
  {
   "cell_type": "code",
   "execution_count": 7,
   "metadata": {},
   "outputs": [
    {
     "data": {
      "text/plain": [
       "[{'page_no': 320,\n",
       "  'character_count': 1894,\n",
       "  'word_count': 298,\n",
       "  'sentence_count': 13,\n",
       "  'token_count': 473.5,\n",
       "  'text': 'Benefits of Sugar Substitutes  Consuming foods and beverages containing sugar substitutes may  benefit health by reducing the consumption of simple sugars, which  are higher in calories, cause tooth decay, and are potentially linked  to chronic disease. Artificial sweeteners are basically non-nutrients  though not all are completely calorie-free. However, because they  are so intense in sweetness they are added in very small amounts  to foods and beverages. Artificial sweeteners and sugar alcohols are  not “fermentable sugars” and therefore they do not cause tooth  decay. Chewing gum with artificial sweeteners is the only proven  way that artificial sweeteners promote oral health. The American  Dental Association (ADA) allows manufacturers of chewing gum to  label packages with an ADA seal if they have convincing scientific  evidence demonstrating their product either reduces plaque acids,  cavities, or gum disease, or promotes tooth remineralization.  There is limited scientific evidence that consuming products with  artificial sweeteners decreases weight. In fact, some studies suggest  the intense sweetness of these products increases appetite for  sweet foods and may lead to increased weight gain. Also, there  is very limited evidence that suggests artificial sweeteners lower  blood-glucose levels. Additionally, many foods and beverages  containing artificial sweeteners and sugar alcohols are still empty- calorie foods (i.e. chewing sugarless gum or drinking diet soda pop)  are not going to better your blood-glucose levels or your health.  Health Concerns  The most common side effect of consuming products containing  sugar substitutes is gastrointestinal upset, a result of their  incomplete digestion. Since the introduction of sugar substitutes to  the food and beverage markets, the public has expressed concern  Carbohydrates and Personal Diet Choices  |  279',\n",
       "  'sentences': ['Benefits of Sugar Substitutes  Consuming foods and beverages containing sugar substitutes may  benefit health by reducing the consumption of simple sugars, which  are higher in calories, cause tooth decay, and are potentially linked  to chronic disease',\n",
       "   'Artificial sweeteners are basically non-nutrients  though not all are completely calorie-free',\n",
       "   'However, because they  are so intense in sweetness they are added in very small amounts  to foods and beverages',\n",
       "   'Artificial sweeteners and sugar alcohols are  not “fermentable sugars” and therefore they do not cause tooth  decay',\n",
       "   'Chewing gum with artificial sweeteners is the only proven  way that artificial sweeteners promote oral health',\n",
       "   'The American  Dental Association (ADA) allows manufacturers of chewing gum to  label packages with an ADA seal if they have convincing scientific  evidence demonstrating their product either reduces plaque acids,  cavities, or gum disease, or promotes tooth remineralization',\n",
       "   ' There is limited scientific evidence that consuming products with  artificial sweeteners decreases weight',\n",
       "   'In fact, some studies suggest  the intense sweetness of these products increases appetite for  sweet foods and may lead to increased weight gain',\n",
       "   'Also, there  is very limited evidence that suggests artificial sweeteners lower  blood-glucose levels',\n",
       "   'Additionally, many foods and beverages  containing artificial sweeteners and sugar alcohols are still empty- calorie foods (i.e',\n",
       "   'chewing sugarless gum or drinking diet soda pop)  are not going to better your blood-glucose levels or your health',\n",
       "   ' Health Concerns  The most common side effect of consuming products containing  sugar substitutes is gastrointestinal upset, a result of their  incomplete digestion',\n",
       "   'Since the introduction of sugar substitutes to  the food and beverage markets, the public has expressed concern  Carbohydrates and Personal Diet Choices  |  279'],\n",
       "  'sentence_grouped': ['Benefits of Sugar Substitutes  Consuming foods and beverages containing sugar substitutes may  benefit health by reducing the consumption of simple sugars, which  are higher in calories, cause tooth decay, and are potentially linked  to chronic diseaseArtificial sweeteners are basically non-nutrients  though not all are completely calorie-freeHowever, because they  are so intense in sweetness they are added in very small amounts  to foods and beveragesArtificial sweeteners and sugar alcohols are  not “fermentable sugars” and therefore they do not cause tooth  decayChewing gum with artificial sweeteners is the only proven  way that artificial sweeteners promote oral healthThe American  Dental Association (ADA) allows manufacturers of chewing gum to  label packages with an ADA seal if they have convincing scientific  evidence demonstrating their product either reduces plaque acids,  cavities, or gum disease, or promotes tooth remineralization There is limited scientific evidence that consuming products with  artificial sweeteners decreases weightIn fact, some studies suggest  the intense sweetness of these products increases appetite for  sweet foods and may lead to increased weight gainAlso, there  is very limited evidence that suggests artificial sweeteners lower  blood-glucose levelsAdditionally, many foods and beverages  containing artificial sweeteners and sugar alcohols are still empty- calorie foods (i.e',\n",
       "   'chewing sugarless gum or drinking diet soda pop)  are not going to better your blood-glucose levels or your health Health Concerns  The most common side effect of consuming products containing  sugar substitutes is gastrointestinal upset, a result of their  incomplete digestionSince the introduction of sugar substitutes to  the food and beverage markets, the public has expressed concern  Carbohydrates and Personal Diet Choices  |  279'],\n",
       "  'sentence_group_count': 2},\n",
       " {'page_no': 1103,\n",
       "  'character_count': 478,\n",
       "  'word_count': 80,\n",
       "  'sentence_count': 4,\n",
       "  'token_count': 119.5,\n",
       "  'text': 'recommended that users complete these activities using a  desktop or laptop computer and in Google Chrome.    An interactive or media element has been  excluded from this version of the text. You can  view it online here:  http://pressbooks.oer.hawaii.edu/ humannutrition2/?p=549    An interactive or media element has been  excluded from this version of the text. You can  view it online here:  http://pressbooks.oer.hawaii.edu/ humannutrition2/?p=549  1062  |  Comparing Diets',\n",
       "  'sentences': ['recommended that users complete these activities using a  desktop or laptop computer and in Google Chrome',\n",
       "   '   An interactive or media element has been  excluded from this version of the text',\n",
       "   'You can  view it online here:  http://pressbooks.oer.hawaii.edu/ humannutrition2/?p=549    An interactive or media element has been  excluded from this version of the text',\n",
       "   'You can  view it online here:  http://pressbooks.oer.hawaii.edu/ humannutrition2/?p=549  1062  |  Comparing Diets'],\n",
       "  'sentence_grouped': ['recommended that users complete these activities using a  desktop or laptop computer and in Google Chrome   An interactive or media element has been  excluded from this version of the textYou can  view it online here:  http://pressbooks.oer.hawaii.edu/ humannutrition2/?p=549    An interactive or media element has been  excluded from this version of the textYou can  view it online here:  http://pressbooks.oer.hawaii.edu/ humannutrition2/?p=549  1062  |  Comparing Diets'],\n",
       "  'sentence_group_count': 1}]"
      ]
     },
     "execution_count": 7,
     "metadata": {},
     "output_type": "execute_result"
    }
   ],
   "source": [
    "random.sample(updated_pages, 2)"
   ]
  },
  {
   "cell_type": "markdown",
   "metadata": {},
   "source": [
    "# Divide text into sentences using spacy"
   ]
  },
  {
   "cell_type": "code",
   "execution_count": 8,
   "metadata": {},
   "outputs": [],
   "source": [
    "def sentencing_using_spacy(pages_list):\n",
    "    nlp = English()\n",
    "    nlp.add_pipe('sentencizer')\n",
    "\n",
    "    for page in pages_list:\n",
    "        sentences = [str(sentence) for sentence in nlp(page['text']).sents]\n",
    "        page['sentences_spacy'] = sentences\n",
    "        page['sentences_spacy_count'] = len(sentences)\n",
    "    \n",
    "    return pages_list\n",
    "\n",
    "updated_pages_spacy = sentencing_using_spacy(updated_pages)"
   ]
  },
  {
   "cell_type": "code",
   "execution_count": 9,
   "metadata": {},
   "outputs": [
    {
     "data": {
      "text/plain": [
       "[{'page_no': 42,\n",
       "  'character_count': 93,\n",
       "  'word_count': 21,\n",
       "  'sentence_count': 3,\n",
       "  'token_count': 23.25,\n",
       "  'text': 'PART I  CHAPTER 1. BASIC  CONCEPTS IN NUTRITION  Chapter 1. Basic Concepts in Nutrition  |  1',\n",
       "  'sentences': ['PART I  CHAPTER 1',\n",
       "   'BASIC  CONCEPTS IN NUTRITION  Chapter 1',\n",
       "   'Basic Concepts in Nutrition  |  1'],\n",
       "  'sentence_grouped': ['PART I  CHAPTER 1BASIC  CONCEPTS IN NUTRITION  Chapter 1Basic Concepts in Nutrition  |  1'],\n",
       "  'sentence_group_count': 1,\n",
       "  'sentences_spacy': ['PART I  CHAPTER 1.',\n",
       "   'BASIC  CONCEPTS IN NUTRITION  Chapter 1.',\n",
       "   'Basic Concepts in Nutrition  |  1'],\n",
       "  'sentences_spacy_count': 3},\n",
       " {'page_no': 602,\n",
       "  'character_count': 875,\n",
       "  'word_count': 152,\n",
       "  'sentence_count': 8,\n",
       "  'token_count': 218.75,\n",
       "  'text': 'Age Group  RDA Males and Females mg/day  Infants (0–6 months)  0.2 *  Infants (7–12 months)  0.3  Children (1–3 years)  0.5  Children (4–8 years)  0.6  Children (9–13 years)  0.9  Adolescents (14–18 years)  1.2 (males), 1.0 (females)  Adults (> 19 years)  1.2 (males), 1.1 (females)  *denotes Adequate Intake  Health Professional Fact Sheet: Thiamin. National Institutes of  Health, Office of Dietary Supplements.https://ods.od.nih.gov/ factsheets/Thiamin-HealthProfessional/ . Updated February 11,  2016 . Accessed October 5, 2017.  Dietary Sources  Whole grains, meat and fish are great sources of thiamin. The  United States as well as many other countries, fortify their refined  breads and cereals.  For the thiamin content of various foods, see  Table 9.14 “Thiamin Content of Various Foods”.  Table 9.14 Thiamin Content of Various Foods  Water-Soluble Vitamins  |  561',\n",
       "  'sentences': ['Age Group  RDA Males and Females mg/day  Infants (0–6 months)  0.2 *  Infants (7–12 months)  0.3  Children (1–3 years)  0.5  Children (4–8 years)  0.6  Children (9–13 years)  0.9  Adolescents (14–18 years)  1.2 (males), 1.0 (females)  Adults (> 19 years)  1.2 (males), 1.1 (females)  *denotes Adequate Intake  Health Professional Fact Sheet: Thiamin',\n",
       "   'National Institutes of  Health, Office of Dietary Supplements.https://ods.od.nih.gov/ factsheets/Thiamin-HealthProfessional/ ',\n",
       "   'Updated February 11,  2016 ',\n",
       "   'Accessed October 5, 2017',\n",
       "   ' Dietary Sources  Whole grains, meat and fish are great sources of thiamin',\n",
       "   'The  United States as well as many other countries, fortify their refined  breads and cereals',\n",
       "   ' For the thiamin content of various foods, see  Table 9.14 “Thiamin Content of Various Foods”',\n",
       "   ' Table 9.14 Thiamin Content of Various Foods  Water-Soluble Vitamins  |  561'],\n",
       "  'sentence_grouped': ['Age Group  RDA Males and Females mg/day  Infants (0–6 months)  0.2 *  Infants (7–12 months)  0.3  Children (1–3 years)  0.5  Children (4–8 years)  0.6  Children (9–13 years)  0.9  Adolescents (14–18 years)  1.2 (males), 1.0 (females)  Adults (> 19 years)  1.2 (males), 1.1 (females)  *denotes Adequate Intake  Health Professional Fact Sheet: ThiaminNational Institutes of  Health, Office of Dietary Supplements.https://ods.od.nih.gov/ factsheets/Thiamin-HealthProfessional/ Updated February 11,  2016 Accessed October 5, 2017 Dietary Sources  Whole grains, meat and fish are great sources of thiaminThe  United States as well as many other countries, fortify their refined  breads and cereals For the thiamin content of various foods, see  Table 9.14 “Thiamin Content of Various Foods” Table 9.14 Thiamin Content of Various Foods  Water-Soluble Vitamins  |  561'],\n",
       "  'sentence_group_count': 1,\n",
       "  'sentences_spacy': ['Age Group  RDA Males and Females mg/day  Infants (0–6 months)  0.2 *  Infants (7–12 months)  0.3  Children (1–3 years)  0.5  Children (4–8 years)  0.6  Children (9–13 years)  0.9  Adolescents (14–18 years)  1.2 (males), 1.0 (females)  Adults (> 19 years)  1.2 (males), 1.1 (females)  *denotes Adequate Intake  Health Professional Fact Sheet: Thiamin.',\n",
       "   'National Institutes of  Health, Office of Dietary Supplements.https://ods.od.nih.gov/ factsheets/Thiamin-HealthProfessional/ .',\n",
       "   'Updated February 11,  2016 .',\n",
       "   'Accessed October 5, 2017.',\n",
       "   ' Dietary Sources  Whole grains, meat and fish are great sources of thiamin.',\n",
       "   'The  United States as well as many other countries, fortify their refined  breads and cereals.',\n",
       "   ' For the thiamin content of various foods, see  Table 9.14 “Thiamin Content of Various Foods”.',\n",
       "   ' Table 9.14 Thiamin Content of Various Foods  Water-Soluble Vitamins  |  561'],\n",
       "  'sentences_spacy_count': 8}]"
      ]
     },
     "execution_count": 9,
     "metadata": {},
     "output_type": "execute_result"
    }
   ],
   "source": [
    "random.sample(updated_pages_spacy, 2)"
   ]
  },
  {
   "cell_type": "markdown",
   "metadata": {},
   "source": [
    "# Chunking"
   ]
  },
  {
   "cell_type": "code",
   "execution_count": 10,
   "metadata": {},
   "outputs": [],
   "source": [
    "def sentences_list(pages_list, max_sentence_size):\n",
    "    sentences_list = []\n",
    "    for page in pages_list:\n",
    "        for i in range(0, page['sentences_spacy_count'], max_sentence_size):\n",
    "            sentence_group = ''.join(page['sentences_spacy'][i: i+max_sentence_size])\n",
    "            sentence_group = sentence_group.replace('  ', ' ').strip()\n",
    "            sentence_group = re.sub(r'\\.([A-Z])', r'. \\1', sentence_group)\n",
    "\n",
    "            sentence = {\n",
    "                'page_no': page['page_no'],\n",
    "                'sentences': sentence_group,\n",
    "                'token_count': len(sentence_group) / 4\n",
    "            }\n",
    "            sentences_list.append(sentence)\n",
    "\n",
    "    return sentences_list"
   ]
  },
  {
   "cell_type": "code",
   "execution_count": 11,
   "metadata": {},
   "outputs": [],
   "source": [
    "sentences_grouped = sentences_list(updated_pages_spacy, max_sentence_size)"
   ]
  },
  {
   "cell_type": "code",
   "execution_count": 12,
   "metadata": {},
   "outputs": [
    {
     "data": {
      "text/plain": [
       "[{'page_no': 97,\n",
       "  'sentences': '• Explain the anatomy and physiology of the digestive system and other supporting organ systems • Describe the relationship between diet and each of the organ systems • Describe the process of calculating Body Mass Index (BMI) The Native Hawaiians believed there was a strong connection between health and food. Around the world, other cultures had similar views of food and its relationship with health. A famous quote by the Greek physician Hippocrates over two thousand years ago, “Let food be thy medicine and medicine be thy food” bear much relevance on our food choices and their connection to our health. Today, the scientific community echoes Hippocrates’ statement as it recognizes some foods as functional foods. The Academy of Nutrition and Dietetics defines functional foods as “whole foods and fortified, enriched, or enhanced foods that have a potentially beneficial effect on health when consumed as part of a varied diet on a regular basis, at effective levels.” In the latter nineteenth century, a Russian doctor of immunology, Elie Metchnikoff, was intrigued by the healthy life spans of people who lived in the tribes of the northern Caucasus Mountains. What contributed to their long lifespan and their resistance to life- threatening diseases?A possible factor lay wrapped up in a leather satchel used to hold fermented milk. Observing the connection between the beverage and longevity, Dr. Elie Metchnikoff began his research on beneficial bacteria and the longevity of life that led to his book, The Prolongation of Life. He studied the biological effects and chemical properties of the kefir elixir whose name came from the Turkish word “kef” or “pleasure.”',\n",
       "  'token_count': 420.25}]"
      ]
     },
     "execution_count": 12,
     "metadata": {},
     "output_type": "execute_result"
    }
   ],
   "source": [
    "random.sample(sentences_grouped, 1)"
   ]
  },
  {
   "cell_type": "code",
   "execution_count": 13,
   "metadata": {},
   "outputs": [
    {
     "data": {
      "text/html": [
       "<div>\n",
       "<style scoped>\n",
       "    .dataframe tbody tr th:only-of-type {\n",
       "        vertical-align: middle;\n",
       "    }\n",
       "\n",
       "    .dataframe tbody tr th {\n",
       "        vertical-align: top;\n",
       "    }\n",
       "\n",
       "    .dataframe thead th {\n",
       "        text-align: right;\n",
       "    }\n",
       "</style>\n",
       "<table border=\"1\" class=\"dataframe\">\n",
       "  <thead>\n",
       "    <tr style=\"text-align: right;\">\n",
       "      <th></th>\n",
       "      <th>page_no</th>\n",
       "      <th>token_count</th>\n",
       "    </tr>\n",
       "  </thead>\n",
       "  <tbody>\n",
       "    <tr>\n",
       "      <th>count</th>\n",
       "      <td>1843.000000</td>\n",
       "      <td>1843.000000</td>\n",
       "    </tr>\n",
       "    <tr>\n",
       "      <th>mean</th>\n",
       "      <td>624.381443</td>\n",
       "      <td>183.524688</td>\n",
       "    </tr>\n",
       "    <tr>\n",
       "      <th>std</th>\n",
       "      <td>347.788670</td>\n",
       "      <td>111.877665</td>\n",
       "    </tr>\n",
       "    <tr>\n",
       "      <th>min</th>\n",
       "      <td>0.000000</td>\n",
       "      <td>3.000000</td>\n",
       "    </tr>\n",
       "    <tr>\n",
       "      <th>25%</th>\n",
       "      <td>321.500000</td>\n",
       "      <td>78.750000</td>\n",
       "    </tr>\n",
       "    <tr>\n",
       "      <th>50%</th>\n",
       "      <td>627.000000</td>\n",
       "      <td>186.250000</td>\n",
       "    </tr>\n",
       "    <tr>\n",
       "      <th>75%</th>\n",
       "      <td>931.000000</td>\n",
       "      <td>279.500000</td>\n",
       "    </tr>\n",
       "    <tr>\n",
       "      <th>max</th>\n",
       "      <td>1207.000000</td>\n",
       "      <td>457.500000</td>\n",
       "    </tr>\n",
       "  </tbody>\n",
       "</table>\n",
       "</div>"
      ],
      "text/plain": [
       "           page_no  token_count\n",
       "count  1843.000000  1843.000000\n",
       "mean    624.381443   183.524688\n",
       "std     347.788670   111.877665\n",
       "min       0.000000     3.000000\n",
       "25%     321.500000    78.750000\n",
       "50%     627.000000   186.250000\n",
       "75%     931.000000   279.500000\n",
       "max    1207.000000   457.500000"
      ]
     },
     "execution_count": 13,
     "metadata": {},
     "output_type": "execute_result"
    }
   ],
   "source": [
    "df = pd.DataFrame(sentences_grouped)\n",
    "df.describe()"
   ]
  },
  {
   "cell_type": "code",
   "execution_count": 14,
   "metadata": {},
   "outputs": [
    {
     "data": {
      "text/html": [
       "<div>\n",
       "<style scoped>\n",
       "    .dataframe tbody tr th:only-of-type {\n",
       "        vertical-align: middle;\n",
       "    }\n",
       "\n",
       "    .dataframe tbody tr th {\n",
       "        vertical-align: top;\n",
       "    }\n",
       "\n",
       "    .dataframe thead th {\n",
       "        text-align: right;\n",
       "    }\n",
       "</style>\n",
       "<table border=\"1\" class=\"dataframe\">\n",
       "  <thead>\n",
       "    <tr style=\"text-align: right;\">\n",
       "      <th></th>\n",
       "      <th>page_no</th>\n",
       "      <th>sentences</th>\n",
       "      <th>token_count</th>\n",
       "    </tr>\n",
       "  </thead>\n",
       "  <tbody>\n",
       "    <tr>\n",
       "      <th>0</th>\n",
       "      <td>0</td>\n",
       "      <td>Human Nutrition: 2020 Edition</td>\n",
       "      <td>7.25</td>\n",
       "    </tr>\n",
       "    <tr>\n",
       "      <th>1</th>\n",
       "      <td>2</td>\n",
       "      <td>Human Nutrition: 2020 Edition UNIVERSITY OF HA...</td>\n",
       "      <td>77.00</td>\n",
       "    </tr>\n",
       "    <tr>\n",
       "      <th>2</th>\n",
       "      <td>3</td>\n",
       "      <td>Human Nutrition: 2020 Edition by University of...</td>\n",
       "      <td>52.50</td>\n",
       "    </tr>\n",
       "    <tr>\n",
       "      <th>3</th>\n",
       "      <td>4</td>\n",
       "      <td>Contents Preface University of Hawai‘i at Māno...</td>\n",
       "      <td>191.50</td>\n",
       "    </tr>\n",
       "    <tr>\n",
       "      <th>4</th>\n",
       "      <td>5</td>\n",
       "      <td>Lifestyles and Nutrition University of Hawai‘i...</td>\n",
       "      <td>235.25</td>\n",
       "    </tr>\n",
       "  </tbody>\n",
       "</table>\n",
       "</div>"
      ],
      "text/plain": [
       "   page_no                                          sentences  token_count\n",
       "0        0                      Human Nutrition: 2020 Edition         7.25\n",
       "1        2  Human Nutrition: 2020 Edition UNIVERSITY OF HA...        77.00\n",
       "2        3  Human Nutrition: 2020 Edition by University of...        52.50\n",
       "3        4  Contents Preface University of Hawai‘i at Māno...       191.50\n",
       "4        5  Lifestyles and Nutrition University of Hawai‘i...       235.25"
      ]
     },
     "execution_count": 14,
     "metadata": {},
     "output_type": "execute_result"
    }
   ],
   "source": [
    "df.head(5)"
   ]
  },
  {
   "cell_type": "code",
   "execution_count": 15,
   "metadata": {},
   "outputs": [],
   "source": [
    "min_token_length = 30\n",
    "\n",
    "sentences_filtered = df[df['token_count'] >= min_token_length]"
   ]
  },
  {
   "cell_type": "code",
   "execution_count": 16,
   "metadata": {},
   "outputs": [
    {
     "data": {
      "text/html": [
       "<div>\n",
       "<style scoped>\n",
       "    .dataframe tbody tr th:only-of-type {\n",
       "        vertical-align: middle;\n",
       "    }\n",
       "\n",
       "    .dataframe tbody tr th {\n",
       "        vertical-align: top;\n",
       "    }\n",
       "\n",
       "    .dataframe thead th {\n",
       "        text-align: right;\n",
       "    }\n",
       "</style>\n",
       "<table border=\"1\" class=\"dataframe\">\n",
       "  <thead>\n",
       "    <tr style=\"text-align: right;\">\n",
       "      <th></th>\n",
       "      <th>page_no</th>\n",
       "      <th>sentences</th>\n",
       "      <th>token_count</th>\n",
       "    </tr>\n",
       "  </thead>\n",
       "  <tbody>\n",
       "    <tr>\n",
       "      <th>1</th>\n",
       "      <td>2</td>\n",
       "      <td>Human Nutrition: 2020 Edition UNIVERSITY OF HA...</td>\n",
       "      <td>77.00</td>\n",
       "    </tr>\n",
       "    <tr>\n",
       "      <th>2</th>\n",
       "      <td>3</td>\n",
       "      <td>Human Nutrition: 2020 Edition by University of...</td>\n",
       "      <td>52.50</td>\n",
       "    </tr>\n",
       "    <tr>\n",
       "      <th>3</th>\n",
       "      <td>4</td>\n",
       "      <td>Contents Preface University of Hawai‘i at Māno...</td>\n",
       "      <td>191.50</td>\n",
       "    </tr>\n",
       "    <tr>\n",
       "      <th>4</th>\n",
       "      <td>5</td>\n",
       "      <td>Lifestyles and Nutrition University of Hawai‘i...</td>\n",
       "      <td>235.25</td>\n",
       "    </tr>\n",
       "    <tr>\n",
       "      <th>5</th>\n",
       "      <td>6</td>\n",
       "      <td>The Cardiovascular System University of Hawai‘...</td>\n",
       "      <td>249.50</td>\n",
       "    </tr>\n",
       "    <tr>\n",
       "      <th>...</th>\n",
       "      <td>...</td>\n",
       "      <td>...</td>\n",
       "      <td>...</td>\n",
       "    </tr>\n",
       "    <tr>\n",
       "      <th>1838</th>\n",
       "      <td>1205</td>\n",
       "      <td>Flashcard Images Note: Most images in the flas...</td>\n",
       "      <td>326.00</td>\n",
       "    </tr>\n",
       "    <tr>\n",
       "      <th>1839</th>\n",
       "      <td>1205</td>\n",
       "      <td>Hazard Analysis Critical Control Points reused...</td>\n",
       "      <td>93.50</td>\n",
       "    </tr>\n",
       "    <tr>\n",
       "      <th>1840</th>\n",
       "      <td>1206</td>\n",
       "      <td>ShareAlike 11. Organs reused “Pancreas Organ A...</td>\n",
       "      <td>321.25</td>\n",
       "    </tr>\n",
       "    <tr>\n",
       "      <th>1841</th>\n",
       "      <td>1206</td>\n",
       "      <td>Sucrose reused “Figure 03 02 05” by OpenStax B...</td>\n",
       "      <td>102.50</td>\n",
       "    </tr>\n",
       "    <tr>\n",
       "      <th>1842</th>\n",
       "      <td>1207</td>\n",
       "      <td>23. Vitamin D reused “The Functions of Vitamin...</td>\n",
       "      <td>62.50</td>\n",
       "    </tr>\n",
       "  </tbody>\n",
       "</table>\n",
       "<p>1680 rows × 3 columns</p>\n",
       "</div>"
      ],
      "text/plain": [
       "      page_no                                          sentences  token_count\n",
       "1           2  Human Nutrition: 2020 Edition UNIVERSITY OF HA...        77.00\n",
       "2           3  Human Nutrition: 2020 Edition by University of...        52.50\n",
       "3           4  Contents Preface University of Hawai‘i at Māno...       191.50\n",
       "4           5  Lifestyles and Nutrition University of Hawai‘i...       235.25\n",
       "5           6  The Cardiovascular System University of Hawai‘...       249.50\n",
       "...       ...                                                ...          ...\n",
       "1838     1205  Flashcard Images Note: Most images in the flas...       326.00\n",
       "1839     1205  Hazard Analysis Critical Control Points reused...        93.50\n",
       "1840     1206  ShareAlike 11. Organs reused “Pancreas Organ A...       321.25\n",
       "1841     1206  Sucrose reused “Figure 03 02 05” by OpenStax B...       102.50\n",
       "1842     1207  23. Vitamin D reused “The Functions of Vitamin...        62.50\n",
       "\n",
       "[1680 rows x 3 columns]"
      ]
     },
     "execution_count": 16,
     "metadata": {},
     "output_type": "execute_result"
    }
   ],
   "source": [
    "sentences_filtered"
   ]
  },
  {
   "cell_type": "markdown",
   "metadata": {},
   "source": [
    "# Embedding"
   ]
  },
  {
   "cell_type": "code",
   "execution_count": 32,
   "metadata": {},
   "outputs": [],
   "source": [
    "embedding_model = SentenceTransformer('all-mpnet-base-v2', device=device)"
   ]
  },
  {
   "cell_type": "code",
   "execution_count": 18,
   "metadata": {},
   "outputs": [],
   "source": [
    "for _, sentence_dict in sentences_filtered.iterrows():\n",
    "    sentence = sentence_dict['sentences']\n",
    "    sentence_dict['embedding'] = embedding_model.encode(sentence)"
   ]
  },
  {
   "cell_type": "markdown",
   "metadata": {},
   "source": [
    "Comparison when embedding with batches"
   ]
  },
  {
   "cell_type": "code",
   "execution_count": 19,
   "metadata": {},
   "outputs": [],
   "source": [
    "text_chunks = [sentence_dict[\"sentences\"] for _, sentence_dict in sentences_filtered.iterrows()]"
   ]
  },
  {
   "cell_type": "code",
   "execution_count": 33,
   "metadata": {},
   "outputs": [
    {
     "data": {
      "text/plain": [
       "tensor([[ 0.0674,  0.0902, -0.0051,  ..., -0.0221, -0.0232,  0.0126],\n",
       "        [ 0.0552,  0.0592, -0.0166,  ..., -0.0120, -0.0103,  0.0227],\n",
       "        [ 0.0280,  0.0340, -0.0206,  ..., -0.0054,  0.0213,  0.0313],\n",
       "        ...,\n",
       "        [ 0.0771,  0.0098, -0.0122,  ..., -0.0409, -0.0752, -0.0241],\n",
       "        [ 0.1030, -0.0165,  0.0083,  ..., -0.0574, -0.0283, -0.0295],\n",
       "        [ 0.0864, -0.0125, -0.0113,  ..., -0.0522, -0.0337, -0.0299]],\n",
       "       device='cuda:0')"
      ]
     },
     "execution_count": 33,
     "metadata": {},
     "output_type": "execute_result"
    }
   ],
   "source": [
    "# Embed all texts in batches\n",
    "text_chunk_embeddings = embedding_model.encode(text_chunks,\n",
    "                                               batch_size=16,\n",
    "                                               convert_to_tensor=True)\n",
    "\n",
    "text_chunk_embeddings"
   ]
  },
  {
   "cell_type": "code",
   "execution_count": 21,
   "metadata": {},
   "outputs": [
    {
     "data": {
      "text/plain": [
       "torch.Size([1680, 768])"
      ]
     },
     "execution_count": 21,
     "metadata": {},
     "output_type": "execute_result"
    }
   ],
   "source": [
    "text_chunk_embeddings.shape"
   ]
  },
  {
   "cell_type": "markdown",
   "metadata": {},
   "source": [
    "# Query"
   ]
  },
  {
   "cell_type": "code",
   "execution_count": 48,
   "metadata": {},
   "outputs": [
    {
     "data": {
      "text/plain": [
       "(tensor([ 3.6350e-02, -5.8203e-02, -1.8262e-02,  1.4228e-02,  1.3136e-02,\n",
       "          4.3278e-02, -3.3172e-02, -1.1831e-02, -4.3201e-02, -6.8741e-02,\n",
       "         -1.8463e-02, -1.5240e-02,  1.9626e-02,  4.7535e-02,  2.7343e-02,\n",
       "         -7.1382e-03,  1.0865e-02, -2.5707e-02, -7.7592e-02, -5.8880e-03,\n",
       "         -3.2791e-02,  2.0640e-02,  1.3843e-02, -6.2041e-03, -2.2706e-02,\n",
       "          3.9274e-02,  4.0431e-02,  5.1309e-03,  1.1578e-02, -1.1135e-02,\n",
       "         -1.9891e-02, -1.8691e-03, -4.9330e-02, -8.7934e-02,  1.5259e-06,\n",
       "         -3.3809e-02, -4.7408e-02,  1.7066e-02, -7.5259e-02,  3.4821e-02,\n",
       "          2.9377e-02, -3.2112e-02, -1.6509e-02,  7.3573e-03,  4.6359e-02,\n",
       "         -4.1220e-03,  1.4522e-02,  3.7193e-04, -6.3193e-02,  1.9782e-02,\n",
       "          2.9439e-02,  4.7811e-02,  1.6230e-02, -1.6853e-02,  2.3415e-02,\n",
       "          4.1553e-02,  8.8754e-03,  2.3375e-02, -3.9122e-02,  3.5091e-02,\n",
       "          6.1852e-02,  3.5322e-02, -1.1847e-03, -8.1968e-03,  4.3451e-02,\n",
       "          5.5786e-02, -2.3311e-02, -3.3593e-02, -2.1715e-03, -1.9097e-03,\n",
       "         -2.5364e-02, -1.3639e-02,  4.1690e-02,  4.0938e-02,  5.9997e-03,\n",
       "          1.8000e-02,  1.3215e-02, -8.1779e-02,  3.2166e-02,  1.9270e-02,\n",
       "          3.4942e-02,  1.9299e-02,  2.8515e-02,  1.0103e-02,  2.8328e-02,\n",
       "         -7.1241e-02, -6.0437e-03, -3.0819e-02, -1.4119e-02, -4.4822e-02,\n",
       "         -1.1033e-01, -1.4785e-02,  7.0766e-02,  3.6899e-02,  6.7770e-02,\n",
       "         -1.8671e-02,  2.6239e-02,  7.2633e-02,  6.7591e-02, -7.9518e-03,\n",
       "         -2.5954e-02,  2.3273e-02, -6.3832e-02,  1.3327e-02, -8.7793e-03,\n",
       "         -5.5085e-03, -1.2032e-02, -5.4448e-02, -5.0600e-03,  3.2773e-02,\n",
       "          1.9565e-03, -1.1326e-02, -2.7451e-03,  8.1029e-02, -2.3061e-02,\n",
       "          4.0297e-02, -1.1022e-02, -9.6865e-03, -1.8286e-02, -1.1952e-02,\n",
       "          4.1604e-02,  3.3237e-02,  1.9330e-02, -4.0204e-03, -7.4848e-03,\n",
       "          7.5033e-02, -5.2690e-03, -5.8149e-02,  4.9243e-03, -6.4739e-02,\n",
       "          6.3863e-03, -4.0424e-02,  1.2902e-03,  4.1638e-03, -9.1669e-03,\n",
       "          2.6458e-02,  3.6857e-02, -1.4164e-02,  5.1356e-03, -5.8743e-02,\n",
       "         -5.8676e-02, -4.6408e-02, -4.4494e-02,  6.6562e-03, -4.8885e-03,\n",
       "          1.2908e-02,  4.0277e-02,  1.0536e-01,  3.8002e-02,  3.6594e-02,\n",
       "          1.8698e-02,  2.1795e-02,  3.6478e-02,  2.7186e-02,  6.8002e-02,\n",
       "         -1.9822e-02,  6.7959e-02, -1.6065e-02, -5.4059e-03, -5.9769e-02,\n",
       "          3.7692e-02, -2.2915e-02, -6.9038e-02, -3.6363e-02, -1.4421e-02,\n",
       "          8.3935e-03,  9.0493e-02,  1.6174e-03, -5.1200e-03, -1.7809e-02,\n",
       "         -1.9112e-02, -3.2962e-02, -1.1322e-02,  5.8362e-03,  3.1491e-02,\n",
       "          2.5371e-02,  3.5389e-02, -1.8378e-02,  1.0811e-02, -1.0011e-02,\n",
       "          1.6314e-02,  3.1136e-02, -3.0903e-02,  3.3103e-02, -1.1536e-01,\n",
       "         -1.1217e-02, -3.7582e-02, -1.4941e-02,  4.1515e-02, -4.2493e-02,\n",
       "          6.2519e-02,  2.9420e-02, -5.4227e-03, -4.4830e-02,  1.0415e-02,\n",
       "          4.1465e-02,  1.8378e-02, -1.1811e-02,  7.9972e-03, -1.2710e-02,\n",
       "          1.4869e-02,  6.3483e-02, -3.8029e-02, -7.7649e-04, -5.1916e-02,\n",
       "          8.7797e-05,  1.2415e-02, -6.7691e-03,  7.4952e-03, -3.2907e-03,\n",
       "          3.1363e-02, -3.6003e-02,  1.4401e-02, -2.0461e-02,  3.2880e-02,\n",
       "         -5.4347e-02,  1.8641e-03, -3.0762e-02, -4.7269e-02,  5.4804e-02,\n",
       "          3.9552e-02, -7.6736e-03, -6.1100e-02, -5.7953e-02,  6.1746e-02,\n",
       "         -1.6355e-03, -6.1833e-04,  2.1462e-02, -6.6924e-02,  1.9964e-02,\n",
       "         -4.3563e-03,  7.1959e-02, -1.7868e-02, -8.3000e-03,  2.7443e-03,\n",
       "         -2.3884e-02, -2.3856e-02,  3.4985e-02, -6.8963e-03,  4.4980e-02,\n",
       "         -6.0062e-02, -1.9168e-02, -1.6593e-02,  1.6437e-03, -2.9701e-02,\n",
       "          3.2558e-02, -5.4387e-02, -5.1361e-02, -4.8482e-02,  2.6628e-02,\n",
       "         -7.3082e-04, -8.6868e-03,  2.3104e-02,  2.0880e-03,  8.9442e-03,\n",
       "          4.8725e-02,  7.1571e-02, -5.9714e-03, -2.7943e-02,  3.2549e-02,\n",
       "          2.5274e-02, -1.4486e-02,  2.3991e-02,  2.4127e-02, -3.6665e-02,\n",
       "         -4.1958e-02, -8.9344e-03,  4.1562e-04, -1.7625e-02, -1.9287e-02,\n",
       "          2.1600e-02,  4.0281e-02,  1.0630e-02,  6.9972e-02,  2.0331e-02,\n",
       "         -1.8336e-02,  7.4131e-03, -3.6774e-04, -9.2345e-03,  1.0167e-02,\n",
       "          1.3586e-02,  2.4319e-02,  3.3763e-03,  2.6211e-02,  1.3926e-02,\n",
       "         -3.3368e-02, -1.1845e-02,  5.7675e-02,  1.2245e-01, -4.2669e-02,\n",
       "          6.7766e-02,  2.9158e-03, -1.0134e-02, -1.3461e-02, -9.4241e-03,\n",
       "          1.9601e-02,  4.5678e-02, -3.1970e-03,  4.5957e-02, -6.6145e-03,\n",
       "         -4.8274e-02,  4.6692e-02, -4.2895e-02,  1.7429e-02, -2.1366e-02,\n",
       "          3.7164e-02, -8.2224e-04, -2.6790e-02,  4.1177e-02,  1.0538e-02,\n",
       "          1.4930e-02,  2.6115e-02, -1.2960e-02,  3.7944e-02,  1.0562e-02,\n",
       "         -1.9151e-03, -5.2271e-02,  1.6880e-02, -1.1220e-03, -3.2855e-02,\n",
       "          2.5690e-02, -4.4815e-02, -1.3548e-02, -3.0457e-02, -3.6349e-02,\n",
       "          4.5538e-03, -9.9191e-03,  5.0966e-02, -8.1343e-02,  1.9803e-02,\n",
       "         -3.9471e-02,  3.2549e-02,  2.2638e-02, -2.2977e-03,  6.2537e-02,\n",
       "          2.0651e-02, -3.1913e-02, -2.3974e-02,  3.2650e-02, -3.3222e-02,\n",
       "         -1.8187e-02, -3.1834e-02,  4.1767e-02,  1.3875e-02,  5.2768e-02,\n",
       "          9.1909e-03, -1.0872e-03,  1.0766e-02, -6.6975e-03,  1.5711e-02,\n",
       "          2.5503e-02, -3.7960e-02, -2.9142e-02,  2.9382e-02, -1.2938e-02,\n",
       "         -1.0852e-02,  2.2354e-03, -4.7183e-02, -7.3034e-02, -2.2891e-02,\n",
       "          4.2650e-02,  2.4176e-02, -1.1165e-01, -1.0147e-01,  8.0447e-02,\n",
       "          3.9282e-02, -3.6261e-02,  3.8353e-02, -1.4442e-02, -2.5609e-02,\n",
       "          2.1125e-02,  2.0547e-02, -1.5587e-02,  1.0468e-02, -2.0793e-02,\n",
       "          5.5583e-03,  3.8185e-02, -4.7569e-02, -5.9726e-02,  1.9571e-02,\n",
       "          4.0127e-03,  4.9266e-02,  4.4804e-02, -1.4215e-02,  1.3351e-02,\n",
       "         -3.0814e-02, -4.3726e-02,  2.0749e-02,  3.0552e-02, -5.4561e-02,\n",
       "          1.1927e-02, -9.7303e-02, -7.3809e-02,  5.3261e-02, -9.1812e-03,\n",
       "          1.8683e-02, -4.5561e-02,  6.5185e-03, -1.0684e-02,  3.2812e-02,\n",
       "          5.9706e-02, -1.1921e-02,  2.0189e-03, -4.9909e-03, -7.5258e-03,\n",
       "          8.0840e-03,  4.4026e-02,  7.8818e-03,  3.0287e-02,  4.3333e-02,\n",
       "          2.0462e-02, -5.2141e-02,  8.4779e-03, -1.6233e-02,  6.3627e-02,\n",
       "         -1.2433e-02,  1.1008e-03, -1.2066e-02,  3.7060e-02, -2.3903e-02,\n",
       "         -3.9463e-02, -1.6050e-02, -4.5603e-02,  3.2414e-02, -6.9709e-02,\n",
       "          1.5782e-02,  1.4140e-02,  1.2988e-02, -1.7289e-02,  6.6973e-02,\n",
       "          3.8294e-02, -3.4320e-02, -2.0565e-02,  1.9978e-02, -8.4692e-02,\n",
       "          3.0987e-02,  3.1848e-02, -4.9735e-02,  1.7842e-02,  2.0862e-02,\n",
       "          6.1948e-03,  3.2857e-02,  5.6972e-03, -1.1370e-02, -1.3293e-02,\n",
       "         -4.4083e-02, -3.2838e-02, -1.3895e-02,  3.6534e-02,  2.7387e-02,\n",
       "         -5.2431e-03,  6.8434e-02, -3.8091e-02,  8.3173e-02, -4.3943e-03,\n",
       "         -8.3881e-03,  1.4115e-03, -1.2041e-02,  1.9612e-02, -8.1738e-02,\n",
       "          1.6833e-02,  9.4147e-03,  1.5375e-02, -1.5650e-02, -4.6912e-02,\n",
       "          1.4058e-02,  7.0104e-02, -2.6923e-02, -3.3448e-02, -2.2285e-02,\n",
       "         -3.5100e-02,  2.0634e-02,  1.0727e-02, -1.1156e-02,  2.6671e-02,\n",
       "         -4.3746e-02, -2.6726e-02,  3.0730e-02, -3.9272e-03,  5.5360e-02,\n",
       "          4.7933e-03,  2.1723e-02,  1.8890e-02,  2.1490e-03, -2.8144e-03,\n",
       "          1.6298e-02, -3.5445e-03, -1.7373e-02, -9.3919e-03,  2.0933e-02,\n",
       "          3.4381e-02,  7.1752e-02, -3.8454e-03, -5.0130e-02,  2.3452e-02,\n",
       "          2.7062e-02,  2.6543e-02,  2.5106e-02,  3.1727e-02,  5.5437e-03,\n",
       "          5.9609e-02, -1.0850e-02, -1.5312e-02, -2.3866e-02,  1.7948e-02,\n",
       "          9.2929e-03, -1.7480e-02, -1.1611e-02, -2.6396e-02, -3.8142e-02,\n",
       "         -9.2148e-03, -4.9369e-03, -1.3283e-02,  5.4208e-02, -2.7172e-02,\n",
       "         -1.2256e-01,  1.0516e-02, -5.5937e-02,  1.0674e-02, -1.2129e-02,\n",
       "          1.5485e-02, -5.3038e-02,  2.1581e-03,  2.8599e-02,  4.5355e-02,\n",
       "          1.3345e-02,  3.1038e-02,  1.2068e-02, -3.2982e-02,  4.5370e-02,\n",
       "         -2.3381e-02, -3.5382e-02,  3.8439e-03, -6.0573e-03, -1.1817e-02,\n",
       "          5.8829e-02, -7.2229e-02,  8.4169e-02, -2.7791e-02,  1.6965e-02,\n",
       "          2.5487e-02, -2.7838e-02,  4.3995e-02,  2.7419e-02,  5.6940e-02,\n",
       "          1.3536e-02, -7.8063e-02, -4.0862e-02, -1.2517e-02, -6.0186e-02,\n",
       "         -4.6489e-02,  4.3929e-02, -2.6805e-02,  2.3045e-02,  6.7970e-02,\n",
       "         -5.2359e-33,  5.2046e-02, -6.7082e-02, -3.9937e-05,  1.0238e-01,\n",
       "          2.4979e-02,  8.1561e-02, -1.6367e-03, -1.6579e-02, -3.1610e-02,\n",
       "          4.6972e-03,  3.4900e-02, -6.5220e-03,  9.2133e-03, -4.3292e-02,\n",
       "         -2.9737e-03, -2.4475e-02,  5.7400e-03, -1.8522e-02,  3.0956e-03,\n",
       "         -2.1347e-02, -3.4688e-02, -1.1564e-02, -2.7848e-03,  4.7683e-02,\n",
       "          1.2937e-02, -1.1162e-02,  6.7933e-03,  4.0392e-02, -5.5596e-02,\n",
       "          4.1731e-02,  6.9012e-03,  1.3235e-02, -2.1169e-02,  2.5780e-02,\n",
       "         -1.1397e-02,  2.2703e-02, -3.5258e-02, -6.5036e-03,  5.1972e-02,\n",
       "         -2.7838e-02, -8.3761e-02, -2.4183e-02,  9.5083e-03,  4.3265e-03,\n",
       "         -5.2396e-03,  2.5368e-02, -4.4687e-02, -1.6778e-02,  1.7937e-03,\n",
       "          7.0405e-02, -1.4708e-02,  3.4635e-02, -1.7993e-02,  7.0235e-02,\n",
       "          1.1179e-02,  5.6379e-02,  1.9461e-02, -4.2848e-02,  5.8889e-02,\n",
       "         -3.7263e-02,  2.8347e-02,  5.9297e-02,  2.4760e-03,  3.8594e-02,\n",
       "          8.1166e-03, -6.0621e-03,  1.3865e-02,  1.0721e-02, -2.9954e-02,\n",
       "         -1.2227e-02, -2.9674e-02, -5.4035e-02,  3.5945e-02, -3.5790e-03,\n",
       "         -2.6835e-02, -6.8260e-02, -1.8446e-02,  2.9967e-02, -4.5362e-02,\n",
       "         -2.6699e-02, -1.1517e-02, -1.9235e-02,  1.9823e-02, -2.6917e-02,\n",
       "         -2.2139e-02,  1.5205e-03, -8.2441e-04,  3.6219e-03, -7.2805e-03,\n",
       "         -3.8944e-02, -4.0059e-03,  8.9619e-02,  6.6004e-03,  1.2462e-03,\n",
       "          5.9522e-02, -1.4255e-02,  3.9081e-02,  2.6938e-03, -9.6303e-03,\n",
       "         -4.4596e-02, -5.1747e-03,  2.2760e-02,  1.2890e-02, -3.3263e-02,\n",
       "         -1.0907e-02, -2.5837e-02, -5.9987e-02, -1.6392e-02,  9.5917e-03,\n",
       "         -3.6946e-02, -1.3986e-02,  1.1129e-02,  4.9195e-02, -3.9620e-02,\n",
       "         -4.6434e-02,  7.5271e-03,  8.6060e-03,  1.4557e-02,  3.2561e-02,\n",
       "         -2.4884e-02, -3.9581e-02,  1.8327e-02,  3.8874e-02, -3.5615e-02,\n",
       "         -1.3830e-02, -4.0152e-02,  4.0546e-02,  3.6840e-02, -6.5699e-04,\n",
       "          5.3292e-02,  1.7416e-02,  4.0632e-02,  2.2873e-07,  1.1094e-02,\n",
       "          1.8339e-03,  1.8760e-02, -6.6481e-02, -2.2438e-02, -5.2669e-02,\n",
       "          6.8777e-04, -1.1481e-02, -1.8437e-02,  6.0199e-03,  7.4666e-02,\n",
       "         -6.9812e-02, -3.6983e-03, -9.0828e-03,  4.5065e-02,  1.4773e-02,\n",
       "         -5.1455e-03, -1.0032e-01,  5.3269e-02,  1.0136e-02, -8.9594e-02,\n",
       "         -1.9746e-02, -7.1009e-02,  2.3010e-02, -4.2884e-02, -3.5130e-02,\n",
       "          4.9862e-03, -2.2965e-02,  5.6315e-02,  1.1485e-03,  7.8967e-02,\n",
       "          4.4106e-02,  1.6735e-02,  9.2410e-03, -4.0429e-02,  1.0647e-02,\n",
       "         -9.9561e-03,  1.3421e-02, -3.4894e-03, -3.3251e-03, -3.4336e-02,\n",
       "         -3.0697e-02, -9.2932e-03, -1.6855e-02, -3.2713e-02, -4.1040e-02,\n",
       "         -3.4477e-02, -1.6579e-02,  7.0743e-03,  8.2713e-03, -4.0951e-02,\n",
       "         -5.3729e-04, -4.7156e-02,  2.9803e-02, -2.0100e-02,  2.8285e-02,\n",
       "          1.8084e-02,  5.1569e-02,  4.4442e-02,  1.0310e-02, -1.8038e-02,\n",
       "         -1.6200e-02,  1.6763e-03,  7.6825e-03,  2.8997e-02,  3.3238e-02,\n",
       "         -3.1750e-02,  1.8266e-34, -1.5178e-03, -3.0013e-02,  3.0899e-02,\n",
       "         -4.2527e-02,  1.6324e-02,  7.9889e-03, -1.0713e-01,  4.5576e-03,\n",
       "         -3.1919e-03, -4.4338e-02, -4.6318e-02], device='cuda:0'),\n",
       " torch.Size([768]))"
      ]
     },
     "execution_count": 48,
     "metadata": {},
     "output_type": "execute_result"
    }
   ],
   "source": [
    "query = 'Macronutrients functions'\n",
    "\n",
    "query_embedded = torch.tensor(embedding_model.encode(query)).to(device)\n",
    "query_embedded, query_embedded.shape"
   ]
  },
  {
   "cell_type": "code",
   "execution_count": 82,
   "metadata": {},
   "outputs": [
    {
     "data": {
      "text/plain": [
       "(tensor([0.6926, 0.6738, 0.6646, 0.6536, 0.6473], device='cuda:0'),\n",
       " tensor([42, 47, 41, 51, 46], device='cuda:0'))"
      ]
     },
     "execution_count": 82,
     "metadata": {},
     "output_type": "execute_result"
    }
   ],
   "source": [
    "# Find best match between text embeddings and query embedding\n",
    "dot_products = text_chunk_embeddings @ query_embedded\n",
    "\n",
    "top_values, top_indices = torch.topk(dot_products, k=5)\n",
    "top_values, top_indices"
   ]
  },
  {
   "cell_type": "markdown",
   "metadata": {},
   "source": [
    "Print the best matching paragraphs"
   ]
  },
  {
   "cell_type": "code",
   "execution_count": 120,
   "metadata": {},
   "outputs": [
    {
     "name": "stdout",
     "output_type": "stream",
     "text": [
      "Score: 0.69258\n",
      "Macronutrients Nutrients that are needed in large amounts are called macronutrients. There are three classes of macronutrients: carbohydrates, lipids, and proteins. These can be metabolically\n",
      "processed into cellular energy. The energy from macronutrients comes from their chemical bonds. This chemical energy is converted into cellular energy that is then utilized to perform work, allowing\n",
      "our bodies to conduct their basic functions. A unit of measurement of food energy is the calorie. On nutrition food labels the amount given for “calories” is actually equivalent to each calorie\n",
      "multiplied by one thousand. A kilocalorie (one thousand calories, denoted with a small “c”) is synonymous with the “Calorie” (with a capital “C”) on nutrition food labels. Water is also a\n",
      "macronutrient in the sense that you require a large amount of it, but unlike the other macronutrients, it does not yield calories. Carbohydrates Carbohydrates are molecules composed of carbon,\n",
      "hydrogen, and oxygen.\n",
      "--------------------------------------------------------------------------------------------------------------------------------------------------------------------------------------------------------\n",
      "Score: 0.67383\n",
      "Water There is one other nutrient that we must have in large quantities: water. Water does not contain carbon, but is composed of two hydrogens and one oxygen per molecule of water. More than 60\n",
      "percent of your total body weight is water. Without it, nothing could be transported in or out of the body, chemical reactions would not occur, organs would not be cushioned, and body temperature\n",
      "would fluctuate widely. On average, an adult consumes just over two liters of water per day from food and drink combined. Since water is so critical for life’s basic processes, the amount of water\n",
      "input and output is supremely important, a topic we will explore in detail in Chapter 4. Micronutrients Micronutrients are nutrients required by the body in lesser amounts, but are still essential for\n",
      "carrying out bodily functions. Micronutrients include all the essential minerals and vitamins. There are sixteen essential minerals and thirteen vitamins (See Table 1.1 “Minerals and Their Major\n",
      "Functions” and Table 1.2 “Vitamins and Their Major Functions” for a complete list and their major functions). In contrast to carbohydrates, lipids, and proteins, micronutrients are not sources of\n",
      "energy (calories), but they assist in the process as cofactors or components of enzymes (i.e., coenzymes).\n",
      "--------------------------------------------------------------------------------------------------------------------------------------------------------------------------------------------------------\n",
      "Score: 0.66463\n",
      "Learning Objectives By the end of this chapter, you will be able to: • Describe basic concepts in nutrition • Describe factors that affect your nutritional needs • Describe the importance of research\n",
      "and scientific methods to understanding nutrition What are Nutrients? The foods we eat contain nutrients. Nutrients are substances required by the body to perform its basic functions. Nutrients must\n",
      "be obtained from our diet, since the human body does not synthesize or produce them. Nutrients have one or more of three basic functions: they provide energy, contribute to body structure, and/or\n",
      "regulate chemical processes in the body. These basic functions allow us to detect and respond to environmental surroundings, move, excrete wastes, respire (breathe), grow, and reproduce. There are six\n",
      "classes of nutrients required for the body to function and maintain overall health. These are carbohydrates, lipids, proteins, water, vitamins, and minerals. Foods also contain non-nutrients that may\n",
      "be harmful (such as natural toxins common in plant foods and additives like some dyes and preservatives) or beneficial (such as antioxidants). 4 | Introduction\n",
      "--------------------------------------------------------------------------------------------------------------------------------------------------------------------------------------------------------\n",
      "Score: 0.65363\n",
      "Vitamins Major Functions Water-soluble Thiamin (B1) Coenzyme, energy metabolism assistance Riboflavin (B2 ) Coenzyme, energy metabolism assistance Niacin (B3) Coenzyme, energy metabolism assistance\n",
      "Pantothenic acid (B5) Coenzyme, energy metabolism assistance Pyridoxine (B6) Coenzyme, amino acid synthesis assistance Biotin (B7) Coenzyme, amino acid and fatty acid metabolism Folate (B9) Coenzyme,\n",
      "essential for growth Cobalamin (B12) Coenzyme, red blood cell synthesis C (ascorbic acid) Collagen synthesis, antioxidant Fat-soluble A Vision, reproduction, immune system function D Bone and teeth\n",
      "health maintenance, immune system function E Antioxidant, cell membrane protection K Bone and teeth health maintenance, blood clotting Vitamin deficiencies can cause severe health problems and even\n",
      "death. For example, a deficiency in niacin causes a disease called pellagra, which was common in the early twentieth century in some parts of America. The common signs and symptoms of pellagra are\n",
      "known as the “4D’s—diarrhea, dermatitis, dementia, and death.” Until scientists found out that better diets relieved the signs and symptoms of pellagra, many people with the disease ended up\n",
      "hospitalized in insane asylums awaiting death. Other vitamins were also found to prevent certain disorders and diseases such as scurvy (vitamin C), night blindness vitamin A, and rickets (vitamin D).\n",
      "Table 1.3 Functions of Nutrients Introduction | 11\n",
      "--------------------------------------------------------------------------------------------------------------------------------------------------------------------------------------------------------\n",
      "Score: 0.64728\n",
      "Figure 1.1 The Macronutrie nts: Carbohydrat es, Lipids, Protein, and Water Proteins Proteins are macromolecules composed of chains of subunits called amino acids. Amino acids are simple subunits\n",
      "composed of carbon, oxygen, hydrogen, and nitrogen. Food sources of proteins include meats, dairy products, seafood, and a variety of different plant- based foods, most notably soy. The word protein\n",
      "comes from a Greek word meaning “of primary importance,” which is an apt description of these macronutrients; they are also known colloquially as the “workhorses” of life. Proteins provide four\n",
      "kilocalories of energy per gram; however providing energy is not protein’s most important function. Proteins provide structure to bones, muscles and skin, and play a role in conducting most of the\n",
      "chemical reactions that take place in the body. Scientists estimate that greater than one-hundred thousand different proteins exist within the human body. The genetic codes in DNA are basically\n",
      "protein recipes that determine the order in which 20 different amino acids are bound together to make thousands of specific proteins. Figure 1.1 The Macronutrients: Carbohydrates, Lipids, Protein, and\n",
      "Water Introduction | 7\n",
      "--------------------------------------------------------------------------------------------------------------------------------------------------------------------------------------------------------\n"
     ]
    }
   ],
   "source": [
    "top_matching_sentences = [{'Score': float(value), 'Paragraph': sentences_filtered.iloc[int(index), df.columns.get_loc('sentences')]} for value, index in zip(top_values, top_indices)]\n",
    "\n",
    "for sentence in top_matching_sentences:\n",
    "    score = sentence['Score']\n",
    "    paragraph = sentence['Paragraph']\n",
    "    \n",
    "    # Wrap the paragraph text\n",
    "    formatted_paragraph = textwrap.fill(paragraph, width=200)\n",
    "    \n",
    "    print(f\"Score: {score:.5f}\")\n",
    "    print(formatted_paragraph)\n",
    "    print(\"-\" * 200)"
   ]
  },
  {
   "cell_type": "markdown",
   "metadata": {},
   "source": [
    "Display the best matching pages"
   ]
  },
  {
   "cell_type": "code",
   "execution_count": 127,
   "metadata": {},
   "outputs": [
    {
     "data": {
      "text/plain": [
       "[46, 49, 45, 52, 48]"
      ]
     },
     "execution_count": 127,
     "metadata": {},
     "output_type": "execute_result"
    }
   ],
   "source": [
    "page_nos = [int(sentences_filtered.iloc[int(idx), df.columns.get_loc('page_no')]) for idx in top_indices]\n",
    "page_nos"
   ]
  },
  {
   "cell_type": "code",
   "execution_count": 128,
   "metadata": {},
   "outputs": [
    {
     "data": {
      "application/vnd.jupyter.widget-view+json": {
       "model_id": "9a2a732afd5a48adaad3433d44a3f928",
       "version_major": 2,
       "version_minor": 0
      },
      "text/plain": [
       "HBox(children=(Image(value=b'\\x89PNG\\r\\n\\x1a\\n\\x00\\x00\\x00\\rIHDR\\x00\\x00\\x01\\x8c\\x00\\x00\\x02d\\x08\\x02\\x00\\x00\\…"
      ]
     },
     "metadata": {},
     "output_type": "display_data"
    }
   ],
   "source": [
    "pdf_file = fitz.open(pdf_path)\n",
    "page_images = []\n",
    "\n",
    "for page_no in page_nos:\n",
    "    page = pdf_file[page_no]\n",
    "    pix = page.get_pixmap() # Get pixmap of the page\n",
    "    page_image = Image.frombytes(\"RGB\", [pix.width, pix.height], pix.samples) # Convert pixmap to PIL Image\n",
    "    \n",
    "    # Convert the PIL Image to bytes\n",
    "    img_bytes = io.BytesIO()\n",
    "    page_image.save(img_bytes, format='png')\n",
    "    img_bytes = img_bytes.getvalue()\n",
    "    \n",
    "    # Create the ipywidgets.Image widget with the memoryview\n",
    "    page_images.append(widgets.Image(value=memoryview(img_bytes)))\n",
    "\n",
    "# Display the page images side by side using an HBox container\n",
    "display(widgets.HBox(page_images))"
   ]
  },
  {
   "cell_type": "code",
   "execution_count": 129,
   "metadata": {},
   "outputs": [
    {
     "data": {
      "image/png": "[encoded data removed]",
      "text/plain": [
       "<PIL.Image.Image image mode=RGB size=396x612>"
      ]
     },
     "metadata": {},
     "output_type": "display_data"
    }
   ],
   "source": [
    "page = pdf_file[page_nos[0]]\n",
    "pix = page.get_pixmap()\n",
    "page_image = Image.frombytes(\"RGB\", [pix.width, pix.height], pix.samples)\n",
    "\n",
    "display(page_image)"
   ]
  }
 ],
 "metadata": {
  "kernelspec": {
   "display_name": "Python 3",
   "language": "python",
   "name": "python3"
  },
  "language_info": {
   "codemirror_mode": {
    "name": "ipython",
    "version": 3
   },
   "file_extension": ".py",
   "mimetype": "text/x-python",
   "name": "python",
   "nbconvert_exporter": "python",
   "pygments_lexer": "ipython3",
   "version": "3.11.8"
  }
 },
 "nbformat": 4,
 "nbformat_minor": 2
}
